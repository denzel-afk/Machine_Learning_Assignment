{
 "cells": [
  {
   "cell_type": "markdown",
   "metadata": {},
   "source": [
    "# Performance Comparison of Gradient Descents Variant on White Wine Quality Predictor"
   ]
  },
  {
   "cell_type": "markdown",
   "metadata": {},
   "source": [
    "Hello everyone and Prof. Di Bo Ya, my name is Denzel Elden Wijaya, and in this notebook I will showcase you the perfromance comparisons of Gradient Descent, Stochastic Gradient Descent, and Mini-Batch Stochastic Gradient Descent on White Wine Quality Datasets. "
   ]
  },
  {
   "cell_type": "markdown",
   "metadata": {},
   "source": [
    "The process will include these steps:\n",
    "1. Get the Wine Quality Dataset\n",
    "2. Data Preprocessing on Regression\n",
    "3. Gradient Descent Variants Implementation\n",
    "4. Analysis and Report"
   ]
  },
  {
   "cell_type": "markdown",
   "metadata": {},
   "source": [
    "### 1. Get The Wine Quality Dataset"
   ]
  },
  {
   "cell_type": "markdown",
   "metadata": {},
   "source": [
    "First, we will import the dataset from [UCI Repository Dataset](https://archive.ics.uci.edu/dataset/186/wine+quality). Inside the dataset, there are two different of wines, red wine and white wine, but in this implementation, I will just use the white wine dataset."
   ]
  },
  {
   "cell_type": "code",
   "execution_count": 18,
   "metadata": {},
   "outputs": [],
   "source": [
    "import pandas as pd\n",
    "\n",
    "dataset_path = \"datasets/winequality-white.csv\"\n",
    "\n",
    "data = pd.read_csv(dataset_path, sep=';')"
   ]
  },
  {
   "cell_type": "code",
   "execution_count": 19,
   "metadata": {},
   "outputs": [
    {
     "name": "stdout",
     "output_type": "stream",
     "text": [
      "   fixed acidity  volatile acidity  citric acid  residual sugar  chlorides  \\\n",
      "0            7.0              0.27         0.36            20.7      0.045   \n",
      "1            6.3              0.30         0.34             1.6      0.049   \n",
      "2            8.1              0.28         0.40             6.9      0.050   \n",
      "3            7.2              0.23         0.32             8.5      0.058   \n",
      "4            7.2              0.23         0.32             8.5      0.058   \n",
      "\n",
      "   free sulfur dioxide  total sulfur dioxide  density    pH  sulphates  \\\n",
      "0                 45.0                 170.0   1.0010  3.00       0.45   \n",
      "1                 14.0                 132.0   0.9940  3.30       0.49   \n",
      "2                 30.0                  97.0   0.9951  3.26       0.44   \n",
      "3                 47.0                 186.0   0.9956  3.19       0.40   \n",
      "4                 47.0                 186.0   0.9956  3.19       0.40   \n",
      "\n",
      "   alcohol  quality  \n",
      "0      8.8        6  \n",
      "1      9.5        6  \n",
      "2     10.1        6  \n",
      "3      9.9        6  \n",
      "4      9.9        6  \n",
      "      fixed acidity  volatile acidity  citric acid  residual sugar  chlorides  \\\n",
      "4893            6.2              0.21         0.29             1.6      0.039   \n",
      "4894            6.6              0.32         0.36             8.0      0.047   \n",
      "4895            6.5              0.24         0.19             1.2      0.041   \n",
      "4896            5.5              0.29         0.30             1.1      0.022   \n",
      "4897            6.0              0.21         0.38             0.8      0.020   \n",
      "\n",
      "      free sulfur dioxide  total sulfur dioxide  density    pH  sulphates  \\\n",
      "4893                 24.0                  92.0  0.99114  3.27       0.50   \n",
      "4894                 57.0                 168.0  0.99490  3.15       0.46   \n",
      "4895                 30.0                 111.0  0.99254  2.99       0.46   \n",
      "4896                 20.0                 110.0  0.98869  3.34       0.38   \n",
      "4897                 22.0                  98.0  0.98941  3.26       0.32   \n",
      "\n",
      "      alcohol  quality  \n",
      "4893     11.2        6  \n",
      "4894      9.6        5  \n",
      "4895      9.4        6  \n",
      "4896     12.8        7  \n",
      "4897     11.8        6  \n",
      "<class 'pandas.core.frame.DataFrame'>\n",
      "RangeIndex: 4898 entries, 0 to 4897\n",
      "Data columns (total 12 columns):\n",
      " #   Column                Non-Null Count  Dtype  \n",
      "---  ------                --------------  -----  \n",
      " 0   fixed acidity         4898 non-null   float64\n",
      " 1   volatile acidity      4898 non-null   float64\n",
      " 2   citric acid           4898 non-null   float64\n",
      " 3   residual sugar        4898 non-null   float64\n",
      " 4   chlorides             4898 non-null   float64\n",
      " 5   free sulfur dioxide   4898 non-null   float64\n",
      " 6   total sulfur dioxide  4898 non-null   float64\n",
      " 7   density               4898 non-null   float64\n",
      " 8   pH                    4898 non-null   float64\n",
      " 9   sulphates             4898 non-null   float64\n",
      " 10  alcohol               4898 non-null   float64\n",
      " 11  quality               4898 non-null   int64  \n",
      "dtypes: float64(11), int64(1)\n",
      "memory usage: 459.3 KB\n",
      "None\n",
      "       fixed acidity  volatile acidity  citric acid  residual sugar  \\\n",
      "count    4898.000000       4898.000000  4898.000000     4898.000000   \n",
      "mean        6.854788          0.278241     0.334192        6.391415   \n",
      "std         0.843868          0.100795     0.121020        5.072058   \n",
      "min         3.800000          0.080000     0.000000        0.600000   \n",
      "25%         6.300000          0.210000     0.270000        1.700000   \n",
      "50%         6.800000          0.260000     0.320000        5.200000   \n",
      "75%         7.300000          0.320000     0.390000        9.900000   \n",
      "max        14.200000          1.100000     1.660000       65.800000   \n",
      "\n",
      "         chlorides  free sulfur dioxide  total sulfur dioxide      density  \\\n",
      "count  4898.000000          4898.000000           4898.000000  4898.000000   \n",
      "mean      0.045772            35.308085            138.360657     0.994027   \n",
      "std       0.021848            17.007137             42.498065     0.002991   \n",
      "min       0.009000             2.000000              9.000000     0.987110   \n",
      "25%       0.036000            23.000000            108.000000     0.991723   \n",
      "50%       0.043000            34.000000            134.000000     0.993740   \n",
      "75%       0.050000            46.000000            167.000000     0.996100   \n",
      "max       0.346000           289.000000            440.000000     1.038980   \n",
      "\n",
      "                pH    sulphates      alcohol      quality  \n",
      "count  4898.000000  4898.000000  4898.000000  4898.000000  \n",
      "mean      3.188267     0.489847    10.514267     5.877909  \n",
      "std       0.151001     0.114126     1.230621     0.885639  \n",
      "min       2.720000     0.220000     8.000000     3.000000  \n",
      "25%       3.090000     0.410000     9.500000     5.000000  \n",
      "50%       3.180000     0.470000    10.400000     6.000000  \n",
      "75%       3.280000     0.550000    11.400000     6.000000  \n",
      "max       3.820000     1.080000    14.200000     9.000000  \n"
     ]
    }
   ],
   "source": [
    "# Data Inspection and Checking\n",
    "\n",
    "print(data.head())\n",
    "print(data.tail())\n",
    "print(data.info())\n",
    "print(data.describe())"
   ]
  },
  {
   "cell_type": "code",
   "execution_count": 20,
   "metadata": {},
   "outputs": [
    {
     "data": {
      "text/plain": [
       "fixed acidity           0\n",
       "volatile acidity        0\n",
       "citric acid             0\n",
       "residual sugar          0\n",
       "chlorides               0\n",
       "free sulfur dioxide     0\n",
       "total sulfur dioxide    0\n",
       "density                 0\n",
       "pH                      0\n",
       "sulphates               0\n",
       "alcohol                 0\n",
       "quality                 0\n",
       "dtype: int64"
      ]
     },
     "execution_count": 20,
     "metadata": {},
     "output_type": "execute_result"
    }
   ],
   "source": [
    "data.isnull().sum()"
   ]
  },
  {
   "cell_type": "markdown",
   "metadata": {},
   "source": [
    "This means the dataset is ready to be preprocessed, since all of the data exists and there is no null value inside the dataset, and all of the other snaity check for the data also has been processed well."
   ]
  },
  {
   "cell_type": "markdown",
   "metadata": {},
   "source": [
    "### 2. Data Preprocessing on Regression"
   ]
  },
  {
   "cell_type": "markdown",
   "metadata": {},
   "source": [
    "To explain, the quality is an integer ranging from 0 to 10, and we will use linear regression alter to predict this value number. But, before that let's split the datasets."
   ]
  },
  {
   "cell_type": "markdown",
   "metadata": {},
   "source": [
    "1. **Split into Features and Targets**"
   ]
  },
  {
   "cell_type": "code",
   "execution_count": 21,
   "metadata": {},
   "outputs": [],
   "source": [
    "import numpy as np\n",
    "\n",
    "X = data.drop('quality', axis=1)\n",
    "y = data['quality'].values"
   ]
  },
  {
   "cell_type": "markdown",
   "metadata": {},
   "source": [
    "2. **Split `X` and `y` into Train and Validation**"
   ]
  },
  {
   "cell_type": "code",
   "execution_count": 22,
   "metadata": {},
   "outputs": [],
   "source": [
    "from sklearn.model_selection import train_test_split\n",
    "\n",
    "X_train, X_val = train_test_split(X, test_size=0.2, random_state=42)\n",
    "y_train, y_val = train_test_split(y, test_size=0.2, random_state=42)"
   ]
  },
  {
   "cell_type": "markdown",
   "metadata": {},
   "source": [
    "3. **Feature Scaling (Helps speeding the Converging of Gradient-based method)**"
   ]
  },
  {
   "cell_type": "code",
   "execution_count": 23,
   "metadata": {},
   "outputs": [],
   "source": [
    "from sklearn.preprocessing import StandardScaler\n",
    "\n",
    "scaler = StandardScaler()\n",
    "X_train = scaler.fit_transform(X_train)\n",
    "X_val = scaler.transform(X_val)"
   ]
  },
  {
   "cell_type": "markdown",
   "metadata": {},
   "source": [
    "### 3. Gradient Descents Variation Implementation"
   ]
  },
  {
   "cell_type": "markdown",
   "metadata": {},
   "source": [
    "Let's define some helpers function for the gradient descent process. As we know, we need the dot product in each process to compute the gradient/first derivative of the function, then we will use MSE (Mean Square Error) as our loss function."
   ]
  },
  {
   "cell_type": "code",
   "execution_count": 24,
   "metadata": {},
   "outputs": [],
   "source": [
    "def predict(X, w, b):\n",
    "    \"\"\"\n",
    "    Returns predictions of a linear model y = Xw + b\n",
    "    \"\"\"\n",
    "    return np.dot(X, w) + b\n",
    "\n",
    "def mse_loss(X, y, w, b):\n",
    "    \"\"\"\n",
    "    Returns Mean Squared Error\n",
    "    \"\"\"\n",
    "    predictions = predict(X, w, b)\n",
    "    return np.mean((predictions - y)**2)\n",
    "\n",
    "def compute_gradients(X_batch, y_batch, w, b):\n",
    "    \"\"\"\n",
    "    Computes the gradients of the MSE loss w.r.t. w and b\n",
    "    \"\"\"\n",
    "    n = len(y_batch)\n",
    "    predictions = predict(X_batch, w, b)\n",
    "    errors = predictions - y_batch\n",
    "\n",
    "    grad_w = (1/n) * np.dot(X_batch.T, errors)\n",
    "    grad_b = (1/n) * np.sum(errors)\n",
    "    return grad_w, grad_b"
   ]
  },
  {
   "cell_type": "markdown",
   "metadata": {},
   "source": [
    "1. **Gradient Descent**\n",
    "\n",
    "People usually called it ass Batch Gradient Descent as it will use all traning samples to compute gradients each update"
   ]
  },
  {
   "cell_type": "code",
   "execution_count": 25,
   "metadata": {},
   "outputs": [],
   "source": [
    "import time\n",
    "\n",
    "def gradient_descent(X, y, X_val, y_val, learning_rate = 0.01, num_epochs = 100):\n",
    "    n_features = X.shape[1]\n",
    "    \n",
    "    w = np.random.randn(n_features)\n",
    "    b = 0.0\n",
    "    \n",
    "    history = []\n",
    "    start_time = time.time()\n",
    "    \n",
    "    for epoch in range(num_epochs):\n",
    "        grad_w, grad_b = compute_gradients(X, y, w, b)\n",
    "        \n",
    "        # update parameters (the gradient descent process)\n",
    "        w -= learning_rate * grad_w\n",
    "        b -= learning_rate * grad_b\n",
    "        \n",
    "        train_loss = mse_loss(X, y, w, b)\n",
    "        val_loss = mse_loss(X_val, y_val, w, b)\n",
    "        history.append((train_loss, val_loss))\n",
    "        \n",
    "        if(epoch+1)%10 == 0:\n",
    "            print(f'Epoch {epoch+1}/{num_epochs}: train_loss = {train_loss}, val_loss = {val_loss}')\n",
    "    \n",
    "    print('time elapsed: ', time.time() - start_time)\n",
    "    return w, b, history"
   ]
  },
  {
   "cell_type": "markdown",
   "metadata": {},
   "source": [
    "2. **Stochastic Graddient Descent (SGD)**\n",
    "SGD updates parameters for each individual sample, we usually take a randomly selected training data point and then finally we just need to compute the gradient of the loss function afterwards."
   ]
  },
  {
   "cell_type": "code",
   "execution_count": 29,
   "metadata": {},
   "outputs": [],
   "source": [
    "import time\n",
    "\n",
    "def stochastic_gradient_descent(X, y, X_val, y_val, learning_rate=0.01, num_epochs=100):\n",
    "    n_samples, n_features = X.shape\n",
    "    w = np.random.randn(n_features)\n",
    "    b = 0.0\n",
    "    \n",
    "    history = []\n",
    "    \n",
    "    start_time = time.time()\n",
    "    \n",
    "    for epoch in range(num_epochs):\n",
    "        # Shuffle the data for each epoch\n",
    "        indices = np.random.permutation(n_samples)\n",
    "        \n",
    "        for i in indices:\n",
    "            X_i = X[i].reshape(1, -1)\n",
    "            y_i = np.array([y[i]])  # Wrap y[i] in a list to create an array of length 1\n",
    "            \n",
    "            grad_w, grad_b = compute_gradients(X_i, y_i, w, b)\n",
    "            \n",
    "            w -= learning_rate * grad_w\n",
    "            b -= learning_rate * grad_b\n",
    "            \n",
    "        train_loss = mse_loss(X, y, w, b)\n",
    "        val_loss = mse_loss(X_val, y_val, w, b)\n",
    "        history.append((train_loss, val_loss))\n",
    "        \n",
    "        if (epoch + 1) % 10 == 0:\n",
    "            print(f'Epoch {epoch+1}/{num_epochs}: train_loss = {train_loss}, val_loss = {val_loss}')\n",
    "    \n",
    "    print('Time elapsed:', time.time() - start_time)\n",
    "    return w, b, history\n"
   ]
  },
  {
   "cell_type": "markdown",
   "metadata": {},
   "source": [
    "3. **Mini-batch Stochastic Gradient Descent**\n",
    "\n",
    "it is basically SGD, but now rather than only one dataset, we will use a batch here, where I will use the size of 32."
   ]
  },
  {
   "cell_type": "code",
   "execution_count": 44,
   "metadata": {},
   "outputs": [],
   "source": [
    "import time\n",
    "import numpy as np\n",
    "\n",
    "def mini_batch_stochastic_gradient_descent(X, y, X_val, y_val,\n",
    "                                           learning_rate=0.01,\n",
    "                                           num_epochs=100,\n",
    "                                           batch_size=16):\n",
    "    n_samples, n_features = X.shape\n",
    "    w = np.random.randn(n_features)\n",
    "    b = 0.0\n",
    "    \n",
    "    history = []\n",
    "    \n",
    "    start_time = time.time()\n",
    "    \n",
    "    y = np.array(y)\n",
    "    \n",
    "    for epoch in range(num_epochs):\n",
    "        # Shuffle data each epoch using np.random.permutation\n",
    "        indices = np.random.permutation(n_samples)\n",
    "        X_shuffled = X[indices]\n",
    "        y_shuffled = y[indices]\n",
    "        \n",
    "        for start in range(0, n_samples, batch_size):\n",
    "            end = start + batch_size\n",
    "            X_batch = X_shuffled[start:end]\n",
    "            y_batch = y_shuffled[start:end]\n",
    "            \n",
    "            # Compute gradients and update weights\n",
    "            grad_w, grad_b = compute_gradients(X_batch, y_batch, w, b)\n",
    "            w -= learning_rate * grad_w\n",
    "            b -= learning_rate * grad_b\n",
    "        \n",
    "        train_loss = mse_loss(X, y, w, b)\n",
    "        val_loss = mse_loss(X_val, y_val, w, b)\n",
    "        history.append((train_loss, val_loss))\n",
    "        \n",
    "        if (epoch+1) % 10 == 0:\n",
    "            print(f\"[Mini-batch SGD] Epoch {epoch+1}/{num_epochs}, \"\n",
    "                  f\"Train Loss: {train_loss:.4f}, Val Loss: {val_loss:.4f}\")\n",
    "    \n",
    "    print('Time elapsed:', time.time() - start_time)\n",
    "    return w, b, history"
   ]
  },
  {
   "cell_type": "code",
   "execution_count": 53,
   "metadata": {},
   "outputs": [
    {
     "name": "stdout",
     "output_type": "stream",
     "text": [
      "------------------Gradient Descent------------------\n",
      "Epoch 10/200: train_loss = 32.58786617830472, val_loss = 34.44084849562223\n",
      "Epoch 20/200: train_loss = 26.794368111498507, val_loss = 28.33275873419969\n",
      "Epoch 30/200: train_loss = 22.068910747064702, val_loss = 23.344306523782816\n",
      "Epoch 40/200: train_loss = 18.208459470726556, val_loss = 19.264320295845014\n",
      "Epoch 50/200: train_loss = 15.051274316142582, val_loss = 15.924069154912138\n",
      "Epoch 60/200: train_loss = 12.46729559883909, val_loss = 13.187544382578686\n",
      "Epoch 70/200: train_loss = 10.351286829595807, val_loss = 10.944480716569872\n",
      "Epoch 80/200: train_loss = 8.617749713831099, val_loss = 9.105149127575524\n",
      "Epoch 90/200: train_loss = 7.197037411353051, val_loss = 7.596355653407587\n",
      "Epoch 100/200: train_loss = 6.032317245196441, val_loss = 6.358301139829055\n",
      "Epoch 110/200: train_loss = 5.077160208249839, val_loss = 5.342080323826652\n",
      "Epoch 120/200: train_loss = 4.293607735204095, val_loss = 4.507670459805856\n",
      "Epoch 130/200: train_loss = 3.6506103865557007, val_loss = 3.822303204535785\n",
      "Epoch 140/200: train_loss = 3.1227611025514515, val_loss = 3.259141211228762\n",
      "Epoch 150/200: train_loss = 2.6892643697799627, val_loss = 2.796199504151346\n",
      "Epoch 160/200: train_loss = 2.33309572566084, val_loss = 2.4154648360529483\n",
      "Epoch 170/200: train_loss = 2.040315579949684, val_loss = 2.102175887229984\n",
      "Epoch 180/200: train_loss = 1.7995085483209416, val_loss = 1.8442345051377214\n",
      "Epoch 190/200: train_loss = 1.6013250823778642, val_loss = 1.6317239002076869\n",
      "Epoch 200/200: train_loss = 1.4381065881924615, val_loss = 1.4565142424613031\n",
      "time elapsed:  0.13002705574035645\n",
      "------------------Stochastic Gradient Descent------------------\n",
      "Epoch 10/200: train_loss = 0.6186214391468168, val_loss = 0.601607775406103\n",
      "Epoch 20/200: train_loss = 0.7574306898034725, val_loss = 0.7024090050058693\n",
      "Epoch 30/200: train_loss = 0.5830663317029368, val_loss = 0.6103254398923417\n",
      "Epoch 40/200: train_loss = 0.5988880879127643, val_loss = 0.6161379891582782\n",
      "Epoch 50/200: train_loss = 0.5860560537985519, val_loss = 0.5894973846139864\n",
      "Epoch 60/200: train_loss = 0.6103565902506592, val_loss = 0.5808502110852307\n",
      "Epoch 70/200: train_loss = 0.6329716993922526, val_loss = 0.650749135114476\n",
      "Epoch 80/200: train_loss = 0.5748899230205788, val_loss = 0.5704506696670466\n",
      "Epoch 90/200: train_loss = 0.5865373611933522, val_loss = 0.5818933709122511\n",
      "Epoch 100/200: train_loss = 0.6100710739999441, val_loss = 0.6376459150195741\n",
      "Epoch 110/200: train_loss = 0.594981394961992, val_loss = 0.5812807728512331\n",
      "Epoch 120/200: train_loss = 0.5823501819120389, val_loss = 0.5979706938629239\n",
      "Epoch 130/200: train_loss = 0.6092269875215708, val_loss = 0.615674048073179\n",
      "Epoch 140/200: train_loss = 0.5834096002370645, val_loss = 0.5858315950342032\n",
      "Epoch 150/200: train_loss = 0.6242189032006473, val_loss = 0.6392685453172424\n",
      "Epoch 160/200: train_loss = 0.5959300784868422, val_loss = 0.6147834164703626\n",
      "Epoch 170/200: train_loss = 0.6137139042128398, val_loss = 0.6506394918187643\n",
      "Epoch 180/200: train_loss = 0.6261814981757186, val_loss = 0.6242381583086183\n",
      "Epoch 190/200: train_loss = 0.5914450297496886, val_loss = 0.6028534454575537\n",
      "Epoch 200/200: train_loss = 0.5792527690150447, val_loss = 0.5939726093122739\n",
      "Time elapsed: 15.76329493522644\n",
      "------------------Mini Batch Stochastic Gradient Descent------------------\n",
      "[Mini-batch SGD] Epoch 10/200, Train Loss: 0.5647, Val Loss: 0.5698\n",
      "[Mini-batch SGD] Epoch 20/200, Train Loss: 0.5638, Val Loss: 0.5766\n",
      "[Mini-batch SGD] Epoch 30/200, Train Loss: 0.5637, Val Loss: 0.5692\n",
      "[Mini-batch SGD] Epoch 40/200, Train Loss: 0.5631, Val Loss: 0.5691\n",
      "[Mini-batch SGD] Epoch 50/200, Train Loss: 0.5636, Val Loss: 0.5674\n",
      "[Mini-batch SGD] Epoch 60/200, Train Loss: 0.5653, Val Loss: 0.5678\n",
      "[Mini-batch SGD] Epoch 70/200, Train Loss: 0.5635, Val Loss: 0.5672\n",
      "[Mini-batch SGD] Epoch 80/200, Train Loss: 0.5633, Val Loss: 0.5720\n",
      "[Mini-batch SGD] Epoch 90/200, Train Loss: 0.5631, Val Loss: 0.5670\n",
      "[Mini-batch SGD] Epoch 100/200, Train Loss: 0.5642, Val Loss: 0.5690\n",
      "[Mini-batch SGD] Epoch 110/200, Train Loss: 0.5637, Val Loss: 0.5706\n",
      "[Mini-batch SGD] Epoch 120/200, Train Loss: 0.5638, Val Loss: 0.5731\n",
      "[Mini-batch SGD] Epoch 130/200, Train Loss: 0.5633, Val Loss: 0.5700\n",
      "[Mini-batch SGD] Epoch 140/200, Train Loss: 0.5639, Val Loss: 0.5657\n",
      "[Mini-batch SGD] Epoch 150/200, Train Loss: 0.5636, Val Loss: 0.5698\n",
      "[Mini-batch SGD] Epoch 160/200, Train Loss: 0.5646, Val Loss: 0.5788\n",
      "[Mini-batch SGD] Epoch 170/200, Train Loss: 0.5652, Val Loss: 0.5789\n",
      "[Mini-batch SGD] Epoch 180/200, Train Loss: 0.5653, Val Loss: 0.5669\n",
      "[Mini-batch SGD] Epoch 190/200, Train Loss: 0.5640, Val Loss: 0.5670\n",
      "[Mini-batch SGD] Epoch 200/200, Train Loss: 0.5634, Val Loss: 0.5714\n",
      "Time elapsed: 1.3315415382385254\n",
      "[Mini-batch SGD] Epoch 10/200, Train Loss: 0.5641, Val Loss: 0.5687\n",
      "[Mini-batch SGD] Epoch 20/200, Train Loss: 0.5633, Val Loss: 0.5720\n",
      "[Mini-batch SGD] Epoch 30/200, Train Loss: 0.5631, Val Loss: 0.5726\n",
      "[Mini-batch SGD] Epoch 40/200, Train Loss: 0.5630, Val Loss: 0.5706\n",
      "[Mini-batch SGD] Epoch 50/200, Train Loss: 0.5629, Val Loss: 0.5711\n",
      "[Mini-batch SGD] Epoch 60/200, Train Loss: 0.5632, Val Loss: 0.5721\n",
      "[Mini-batch SGD] Epoch 70/200, Train Loss: 0.5640, Val Loss: 0.5746\n",
      "[Mini-batch SGD] Epoch 80/200, Train Loss: 0.5629, Val Loss: 0.5676\n",
      "[Mini-batch SGD] Epoch 90/200, Train Loss: 0.5629, Val Loss: 0.5703\n",
      "[Mini-batch SGD] Epoch 100/200, Train Loss: 0.5631, Val Loss: 0.5666\n",
      "[Mini-batch SGD] Epoch 110/200, Train Loss: 0.5633, Val Loss: 0.5720\n",
      "[Mini-batch SGD] Epoch 120/200, Train Loss: 0.5630, Val Loss: 0.5689\n",
      "[Mini-batch SGD] Epoch 130/200, Train Loss: 0.5629, Val Loss: 0.5699\n",
      "[Mini-batch SGD] Epoch 140/200, Train Loss: 0.5635, Val Loss: 0.5667\n",
      "[Mini-batch SGD] Epoch 150/200, Train Loss: 0.5630, Val Loss: 0.5696\n",
      "[Mini-batch SGD] Epoch 160/200, Train Loss: 0.5629, Val Loss: 0.5695\n",
      "[Mini-batch SGD] Epoch 170/200, Train Loss: 0.5647, Val Loss: 0.5746\n",
      "[Mini-batch SGD] Epoch 180/200, Train Loss: 0.5630, Val Loss: 0.5686\n",
      "[Mini-batch SGD] Epoch 190/200, Train Loss: 0.5633, Val Loss: 0.5703\n",
      "[Mini-batch SGD] Epoch 200/200, Train Loss: 0.5635, Val Loss: 0.5743\n",
      "Time elapsed: 0.6433789730072021\n"
     ]
    }
   ],
   "source": [
    "num_epochs = 200\n",
    "lr = 0.01\n",
    "\n",
    "print(\"------------------Gradient Descent------------------\")\n",
    "w_bgd, b_bgd, history_bgd = gradient_descent(\n",
    "    X_train, y_train, X_val, y_val, \n",
    "    learning_rate=lr, \n",
    "    num_epochs=num_epochs\n",
    ")\n",
    "\n",
    "print(\"------------------Stochastic Gradient Descent------------------\")\n",
    "w_sgd, b_sgd, history_sgd = stochastic_gradient_descent(\n",
    "    X_train, y_train, X_val, y_val, \n",
    "    learning_rate=lr, \n",
    "    num_epochs=num_epochs\n",
    ")\n",
    "\n",
    "print(\"------------------Mini Batch Stochastic Gradient Descent------------------\")\n",
    "w_mbgd, b_mbgd, history_mbgd = mini_batch_stochastic_gradient_descent(\n",
    "    X_train, y_train, X_val, y_val, \n",
    "    learning_rate=lr, \n",
    "    num_epochs=num_epochs\n",
    ")\n",
    "w_mbgd_2, b_mbgd_2, history_mbgd_2 = mini_batch_stochastic_gradient_descent(\n",
    "    X_train, y_train, X_val, y_val, \n",
    "    learning_rate=lr, \n",
    "    num_epochs=num_epochs,\n",
    "    batch_size=32\n",
    ")"
   ]
  },
  {
   "cell_type": "code",
   "execution_count": 54,
   "metadata": {},
   "outputs": [
    {
     "data": {
      "image/png": "[encoded data removed]",
      "text/plain": [
       "<Figure size 1000x600 with 1 Axes>"
      ]
     },
     "metadata": {},
     "output_type": "display_data"
    }
   ],
   "source": [
    "import matplotlib.pyplot as plt\n",
    "\n",
    "def plot_loss(history, label):\n",
    "    plt.plot([h[0] for h in history], label=f'{label} - Train')\n",
    "    plt.plot([h[1] for h in history], label=f'{label} - Val')\n",
    "\n",
    "plt.figure(figsize=(10,6))\n",
    "plot_loss(history_bgd, \"Batch GD\")\n",
    "plot_loss(history_sgd, \"SGD\")\n",
    "plot_loss(history_mbgd, \"Mini-batch GD\")\n",
    "plot_loss(history_mbgd_2, \"Mini-batch GD (batch_size=32)\")\n",
    "plt.xlabel('Epoch')\n",
    "plt.ylabel('MSE Loss')\n",
    "plt.legend()\n",
    "plt.title('Training vs Validation Loss')\n",
    "plt.show()"
   ]
  },
  {
   "cell_type": "code",
   "execution_count": 55,
   "metadata": {},
   "outputs": [
    {
     "name": "stdout",
     "output_type": "stream",
     "text": [
      "------------------Gradient Descent------------------\n",
      "Epoch 10/200: train_loss = 5.433333731303789, val_loss = 4.9782403170857155\n",
      "Epoch 20/200: train_loss = 1.2736222432275943, val_loss = 1.1447063631009848\n",
      "Epoch 30/200: train_loss = 0.7170317042096948, val_loss = 0.6488898301274021\n",
      "Epoch 40/200: train_loss = 0.6276465894288309, val_loss = 0.5762049194966443\n",
      "Epoch 50/200: train_loss = 0.6069796360543254, val_loss = 0.563226284006883\n",
      "Epoch 60/200: train_loss = 0.5996052495154031, val_loss = 0.5607510445267103\n",
      "Epoch 70/200: train_loss = 0.5959554961748337, val_loss = 0.560622342499079\n",
      "Epoch 80/200: train_loss = 0.5936841750229487, val_loss = 0.5610050353065466\n",
      "Epoch 90/200: train_loss = 0.5920035986509615, val_loss = 0.5613938715934604\n",
      "Epoch 100/200: train_loss = 0.5906025836548197, val_loss = 0.5616624917577618\n",
      "Epoch 110/200: train_loss = 0.5893500265527338, val_loss = 0.5618048013928462\n",
      "Epoch 120/200: train_loss = 0.5881889383177894, val_loss = 0.561848127325902\n",
      "Epoch 130/200: train_loss = 0.5870937410986761, val_loss = 0.5618233486583487\n",
      "Epoch 140/200: train_loss = 0.5860523231092029, val_loss = 0.5617559773587074\n",
      "Epoch 150/200: train_loss = 0.5850583924287764, val_loss = 0.561664763791745\n",
      "Epoch 160/200: train_loss = 0.5841082022033585, val_loss = 0.561562666296904\n",
      "Epoch 170/200: train_loss = 0.5831991440465951, val_loss = 0.561458283829926\n",
      "Epoch 180/200: train_loss = 0.5823291420484327, val_loss = 0.5613571311089651\n",
      "Epoch 190/200: train_loss = 0.5814963904129322, val_loss = 0.5612626152570082\n",
      "Epoch 200/200: train_loss = 0.580699238785324, val_loss = 0.5611767343591939\n",
      "time elapsed:  0.10385990142822266\n",
      "------------------Stochastic Gradient Descent------------------\n",
      "Epoch 10/200: train_loss = 1.3549777889727896, val_loss = 1.3987528479585971\n",
      "Epoch 20/200: train_loss = 6.403166199109095, val_loss = 6.20774832964299\n",
      "Epoch 30/200: train_loss = 8.77600948358616, val_loss = 9.308675660167626\n",
      "Epoch 40/200: train_loss = 213.8682062080241, val_loss = 203.39788607326645\n",
      "Epoch 50/200: train_loss = 226.29475311795076, val_loss = 210.85996618026635\n",
      "Epoch 60/200: train_loss = 1.8966819021429837, val_loss = 1.7525674325325353\n",
      "Epoch 70/200: train_loss = 508.87189312173604, val_loss = 436.28798271494975\n",
      "Epoch 80/200: train_loss = 3.088365683308045, val_loss = 3.100561549186687\n",
      "Epoch 90/200: train_loss = 383.6167934751188, val_loss = 388.77588132242374\n",
      "Epoch 100/200: train_loss = 8746.45278102858, val_loss = 8760.905019276266\n",
      "Epoch 110/200: train_loss = 448.6955981669192, val_loss = 446.24384470634817\n",
      "Epoch 120/200: train_loss = 20.520661496828065, val_loss = 21.150254799299876\n",
      "Epoch 130/200: train_loss = 6.776170369070157, val_loss = 6.429822360586402\n",
      "Epoch 140/200: train_loss = 85.06766059275115, val_loss = 86.1115162233729\n",
      "Epoch 150/200: train_loss = 29.085350390914932, val_loss = 26.10330691111245\n",
      "Epoch 160/200: train_loss = 104.34313238581662, val_loss = 110.67389055601382\n",
      "Epoch 170/200: train_loss = 17280.681290879493, val_loss = 16721.56658394038\n",
      "Epoch 180/200: train_loss = 1.137266618895768, val_loss = 1.1223333626538943\n",
      "Epoch 190/200: train_loss = 1.4815228283584543, val_loss = 1.641439327281834\n",
      "Epoch 200/200: train_loss = 4.5783164296136505, val_loss = 4.398131328270687\n",
      "Time elapsed: 15.492519855499268\n",
      "------------------Mini Batch Stochastic Gradient Descent------------------\n",
      "[Mini-batch SGD] Epoch 10/200, Train Loss: 0.6030, Val Loss: 0.6189\n",
      "[Mini-batch SGD] Epoch 20/200, Train Loss: 0.6065, Val Loss: 0.5966\n",
      "[Mini-batch SGD] Epoch 30/200, Train Loss: 0.6378, Val Loss: 0.6752\n",
      "[Mini-batch SGD] Epoch 40/200, Train Loss: 0.5723, Val Loss: 0.5973\n",
      "[Mini-batch SGD] Epoch 50/200, Train Loss: 0.5777, Val Loss: 0.5910\n",
      "[Mini-batch SGD] Epoch 60/200, Train Loss: 0.5740, Val Loss: 0.5840\n",
      "[Mini-batch SGD] Epoch 70/200, Train Loss: 0.5741, Val Loss: 0.5824\n",
      "[Mini-batch SGD] Epoch 80/200, Train Loss: 0.5947, Val Loss: 0.5975\n",
      "[Mini-batch SGD] Epoch 90/200, Train Loss: 0.5914, Val Loss: 0.5814\n",
      "[Mini-batch SGD] Epoch 100/200, Train Loss: 0.6139, Val Loss: 0.6353\n",
      "[Mini-batch SGD] Epoch 110/200, Train Loss: 0.5872, Val Loss: 0.6010\n",
      "[Mini-batch SGD] Epoch 120/200, Train Loss: 0.5769, Val Loss: 0.5947\n",
      "[Mini-batch SGD] Epoch 130/200, Train Loss: 0.5762, Val Loss: 0.5897\n",
      "[Mini-batch SGD] Epoch 140/200, Train Loss: 0.6054, Val Loss: 0.6077\n",
      "[Mini-batch SGD] Epoch 150/200, Train Loss: 0.5965, Val Loss: 0.6267\n",
      "[Mini-batch SGD] Epoch 160/200, Train Loss: 0.6133, Val Loss: 0.6377\n",
      "[Mini-batch SGD] Epoch 170/200, Train Loss: 0.5897, Val Loss: 0.6081\n",
      "[Mini-batch SGD] Epoch 180/200, Train Loss: 0.5831, Val Loss: 0.5946\n",
      "[Mini-batch SGD] Epoch 190/200, Train Loss: 0.5685, Val Loss: 0.5689\n",
      "[Mini-batch SGD] Epoch 200/200, Train Loss: 0.5697, Val Loss: 0.5748\n",
      "Time elapsed: 1.2397255897521973\n",
      "[Mini-batch SGD] Epoch 10/200, Train Loss: 0.5757, Val Loss: 0.5847\n",
      "[Mini-batch SGD] Epoch 20/200, Train Loss: 0.5785, Val Loss: 0.6028\n",
      "[Mini-batch SGD] Epoch 30/200, Train Loss: 0.5993, Val Loss: 0.6124\n",
      "[Mini-batch SGD] Epoch 40/200, Train Loss: 0.5746, Val Loss: 0.5736\n",
      "[Mini-batch SGD] Epoch 50/200, Train Loss: 0.5682, Val Loss: 0.5687\n",
      "[Mini-batch SGD] Epoch 60/200, Train Loss: 0.5700, Val Loss: 0.5779\n",
      "[Mini-batch SGD] Epoch 70/200, Train Loss: 0.5791, Val Loss: 0.6085\n",
      "[Mini-batch SGD] Epoch 80/200, Train Loss: 0.5900, Val Loss: 0.5778\n",
      "[Mini-batch SGD] Epoch 90/200, Train Loss: 0.5707, Val Loss: 0.5887\n",
      "[Mini-batch SGD] Epoch 100/200, Train Loss: 0.8162, Val Loss: 0.8060\n",
      "[Mini-batch SGD] Epoch 110/200, Train Loss: 0.5925, Val Loss: 0.5734\n",
      "[Mini-batch SGD] Epoch 120/200, Train Loss: 0.5783, Val Loss: 0.5723\n",
      "[Mini-batch SGD] Epoch 130/200, Train Loss: 0.5780, Val Loss: 0.5871\n",
      "[Mini-batch SGD] Epoch 140/200, Train Loss: 0.5840, Val Loss: 0.5930\n",
      "[Mini-batch SGD] Epoch 150/200, Train Loss: 0.5750, Val Loss: 0.5875\n",
      "[Mini-batch SGD] Epoch 160/200, Train Loss: 0.5749, Val Loss: 0.5738\n",
      "[Mini-batch SGD] Epoch 170/200, Train Loss: 0.6142, Val Loss: 0.6053\n",
      "[Mini-batch SGD] Epoch 180/200, Train Loss: 0.5719, Val Loss: 0.5843\n",
      "[Mini-batch SGD] Epoch 190/200, Train Loss: 0.5718, Val Loss: 0.5634\n",
      "[Mini-batch SGD] Epoch 200/200, Train Loss: 0.6038, Val Loss: 0.5859\n",
      "Time elapsed: 0.6613643169403076\n"
     ]
    }
   ],
   "source": [
    "num_epochs = 200\n",
    "lr = 0.1\n",
    "\n",
    "print(\"------------------Gradient Descent------------------\")\n",
    "w_bgd, b_bgd, history_bgd = gradient_descent(\n",
    "    X_train, y_train, X_val, y_val, \n",
    "    learning_rate=lr, \n",
    "    num_epochs=num_epochs\n",
    ")\n",
    "\n",
    "print(\"------------------Stochastic Gradient Descent------------------\")\n",
    "w_sgd, b_sgd, history_sgd = stochastic_gradient_descent(\n",
    "    X_train, y_train, X_val, y_val, \n",
    "    learning_rate=lr, \n",
    "    num_epochs=num_epochs\n",
    ")\n",
    "\n",
    "print(\"------------------Mini Batch Stochastic Gradient Descent------------------\")\n",
    "w_mbgd, b_mbgd, history_mbgd = mini_batch_stochastic_gradient_descent(\n",
    "    X_train, y_train, X_val, y_val, \n",
    "    learning_rate=lr, \n",
    "    num_epochs=num_epochs\n",
    ")\n",
    "\n",
    "w_mbgd_2, b_mbgd_2, history_mbgd_2 = mini_batch_stochastic_gradient_descent(\n",
    "    X_train, y_train, X_val, y_val, \n",
    "    learning_rate=lr, \n",
    "    num_epochs=num_epochs,\n",
    "    batch_size=32\n",
    ")"
   ]
  },
  {
   "cell_type": "code",
   "execution_count": 56,
   "metadata": {},
   "outputs": [
    {
     "data": {
      "image/png": "[encoded data removed]",
      "text/plain": [
       "<Figure size 1000x600 with 1 Axes>"
      ]
     },
     "metadata": {},
     "output_type": "display_data"
    }
   ],
   "source": [
    "import matplotlib.pyplot as plt\n",
    "\n",
    "def plot_loss(history, label):\n",
    "    plt.plot([h[0] for h in history], label=f'{label} - Train')\n",
    "    plt.plot([h[1] for h in history], label=f'{label} - Val')\n",
    "\n",
    "plt.figure(figsize=(10,6))\n",
    "plot_loss(history_bgd, \"Batch GD\")\n",
    "plot_loss(history_sgd, \"SGD\")\n",
    "plot_loss(history_mbgd, \"Mini-batch GD\")\n",
    "plot_loss(history_mbgd_2, \"Mini-batch GD (batch_size=32)\")\n",
    "plt.xlabel('Epoch')\n",
    "plt.ylabel('MSE Loss')\n",
    "plt.legend()\n",
    "plt.title('Training vs Validation Loss')\n",
    "plt.show()"
   ]
  },
  {
   "cell_type": "markdown",
   "metadata": {},
   "source": [
    "### 4. Analysis and Report"
   ]
  },
  {
   "cell_type": "markdown",
   "metadata": {},
   "source": [
    "**Summary Table**\n",
    "\n",
    "| **Method**                   | **Learning Rate** | **Batch Size** | **Train Loss** | **Validation Loss** | **Comments**                                                                                                |\n",
    "|------------------------------|-------------------|----------------|----------------|---------------------|-------------------------------------------------------------------------------------------------------------|\n",
    "| **Batch GD**                 | 0.01              | Full Batch     | 1.43           | 1.45                | Fastest to execute but higher losses at lr=0.01.                                                            |\n",
    "| **Stochastic GD (SGD)**      | 0.01              | Single Sample  | 0.58           | 0.59               | Lower loss than GD at lr=0.01, though execution is slower due to per-sample updates.                         |\n",
    "| **Mini-batch SGD**           | 0.01              | 32             | 0.56           | 0.57               | Best performance at lr=0.01; balances speed and accuracy well.\n",
    "| **Mini-batch SGD**           | 0.01              | 20             | 0.56           | 0.57               | Another best performance at lr=0.01; balances speed and accuracy well.                                                |\n",
    "| **Batch GD**                 | 0.1               | Full Batch     | 0.58           | 0.56                | Improved performance at a higher learning rate.                                                             |\n",
    "| **Stochastic GD (SGD)**      | 0.1               | Single Sample  | 4.57           | 4.39                | Highly unstable with lr=0.1; losses fluctuate wildly and diverge.                                            |\n",
    "| **Mini-batch SGD**           | 0.1               | 32             | 0.60           | 0.58                | Remains stable and yields excellent performance at lr=0.1.                                                   |\n",
    "| **Mini-batch SGD**           | 0.1               | 20             | 0.56           | 0.57              | Slightly lower loss than with batch size 32; smaller batches increase training time without much gain.        |\n"
   ]
  },
  {
   "cell_type": "markdown",
   "metadata": {},
   "source": [
    "**Additional Analysis and Insights**\n",
    "\n",
    "1. Batch Size Effects:\n",
    "\n",
    "    When you reduce the mini-batch size (for example, from 32 to 20), you will typically see an increase in training time since more batches are processed per epoch. However, in my experiments, the train and validation losses remain quite similar. This suggests that the smaller mini-batch size does not significantly degrade performance but does come at the cost of longer training.\n",
    "\n",
    "2. Learning Rate Sensitivity:\n",
    "- At learning_rate = 0.01, both SGD and mini-batch SGD perform very well, with mini-batch SGD giving the lowest losses\n",
    "- At learning_rate = 0.1, batch GD and mini-batch SGD continue to perform well, while SGD becomes very unstable (with loss value spiking up to around 17280). This instability in SGD is due to the high variance of single-sample updates when the learning rate is too high.\n",
    "\n",
    "3. Number of Epochs: \n",
    "\n",
    "    Reducing number of epochs mean less time for the model to converge:\n",
    "- Underfitting: With too few epochs, the model might not learn the underlying enoughly, resulting in higher loss.\n",
    "- Diminishing returns: On the other hand, if the learning rate is high and the model converges quickly, additional epochs may not provide significant further improvements.\n",
    "\n",
    "    Thus, a balance is needed, like you see yourself, in a correct learning_rate, in every 10 epochs, the result is always getting better until some point it will become stagnant, so from here I can know where I can stop is when there is no other significant changes.\n",
    "\n",
    "4. Convergence Rate:\n",
    "\n",
    "- Batch GD: Although each epoch is computed quickly, using the full dataset for updates makes convergence slow (i.e., higher losses remain even after many epochs), especially at lower learning rates.\n",
    "\n",
    "- Stochastic GD (SGD): Offers rapid initial loss reduction because each update is based on one sample; however, the updates are very noisy. This noise causes high fluctuation in the loss values, particularly evident with higher learning rates (lr = 0.1), where the loss can oscillate wildly.\n",
    "\n",
    "- Mini-batch SGD: Strikes the best balance. With an optimal batch size (e.g., 32), the convergence is both fast and stable. Smaller batch sizes (like 20) slightly slow convergence due to more updates being processed per epoch, but the difference in loss is marginal."
   ]
  },
  {
   "cell_type": "markdown",
   "metadata": {},
   "source": [
    "### Conclusion\n",
    "\n",
    "- Execution Speed vs. Accuracy:\n",
    "\n",
    "    Batch GD is fastest in terms of execution but yields higher losses when using a lower learning rate. Mini-batch SGD appears to offer the best balance between execution time and convergence quality, particularly at a well-tuned learning rate (e.g., 0.01 or 0.1 with appropriate batch sizes).\n",
    "\n",
    "- Hyperparameter Tuning:\n",
    "\n",
    "    The learning rate must be carefully tuned for each method. Too high a learning rate, especially in SGD, can lead to erratic behavior and divergence. Additionally, the batch size in mini-batch SGD has a trade-off: smaller batches may slightly worsen the loss and increase training time, while larger batches may speed up training but might not always yield the best convergence.\n",
    "\n",
    "- Epochs:\n",
    "\n",
    "    Lowering the number of epochs degrades performance due to under-training. However, with a high learning rate, models may converge quickly—so there’s a point of diminishing returns where extra epochs do not bring significant improvement."
   ]
  },
  {
   "cell_type": "markdown",
   "metadata": {},
   "source": [
    "That will be the end of the notebook and report. I hope it will give you more insights."
   ]
  }
 ],
 "metadata": {
  "kernelspec": {
   "display_name": "Python 3",
   "language": "python",
   "name": "python3"
  },
  "language_info": {
   "codemirror_mode": {
    "name": "ipython",
    "version": 3
   },
   "file_extension": ".py",
   "mimetype": "text/x-python",
   "name": "python",
   "nbconvert_exporter": "python",
   "pygments_lexer": "ipython3",
   "version": "3.11.5"
  }
 },
 "nbformat": 4,
 "nbformat_minor": 2
}
